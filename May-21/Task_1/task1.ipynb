{
 "cells": [
  {
   "cell_type": "markdown",
   "id": "e4e5ca4c-b4d7-4e17-988c-9ccc449ef4ee",
   "metadata": {},
   "source": [
    "# **The Sparks Foundation #GRIPMAY21**"
   ]
  },
  {
   "cell_type": "markdown",
   "id": "d97329a9-499e-4c29-b774-923a36a2c2c0",
   "metadata": {},
   "source": [
    "## **Data Science & Business Analytics Tasks:**\n",
    "### **Task 1 - Prediction using Supervised ML**\n",
    "### **By - Sourav Sarkar**"
   ]
  },
  {
   "cell_type": "markdown",
   "id": "25fdec05-467b-4a50-9789-172fe2f2ad5e",
   "metadata": {},
   "source": [
    "# Python Scikit Learn"
   ]
  },
  {
   "cell_type": "markdown",
   "id": "36a4fdb2-cd42-4208-b99c-6a196f189ae4",
   "metadata": {},
   "source": [
    "Scikit-learn is a free software machine learning library for the Python programming language. It features various classification, regression and clustering algorithms including support vector machines, random forests, gradient boosting, k-means and DBSCAN."
   ]
  },
  {
   "cell_type": "markdown",
   "id": "0e6ea75a-45a8-4e35-8bfc-69773eb4a51d",
   "metadata": {},
   "source": [
    "## Linear Regression with Python Scikit Learn"
   ]
  },
  {
   "cell_type": "markdown",
   "id": "84d362f3-e398-46b5-897d-d0f0f1dc92dd",
   "metadata": {},
   "source": [
    "In this section we will see how the Python Scikit-Learn library for machine learning can be used to implement regression functions. We will start with simple linear regression involving two variables and then we will move towards linear regression involving multiple variables."
   ]
  },
  {
   "cell_type": "markdown",
   "id": "bb785b85-3393-4955-a41e-2ca6639ce819",
   "metadata": {},
   "source": [
    "## Simple Linear Regression"
   ]
  },
  {
   "cell_type": "markdown",
   "id": "bd3b4801-cc89-4738-8ac0-90d847de5f16",
   "metadata": {},
   "source": [
    "In this regression task we will predict the percentage of marks that a student is expected to score based upon the number of hours they studied. This is a simple linear regression task as it involves just two variables."
   ]
  },
  {
   "cell_type": "markdown",
   "id": "ef2b0db8-454f-4031-9d5b-1cc2ec814b17",
   "metadata": {},
   "source": [
    "Importing necesaary libraries for the task:"
   ]
  },
  {
   "cell_type": "code",
   "execution_count": 1,
   "id": "c29099f0-0eed-4b1e-9b2b-c81714e05ac7",
   "metadata": {},
   "outputs": [],
   "source": [
    "import numpy as np\n",
    "import pandas as pd\n",
    "import matplotlib.pyplot as plt\n",
    "%matplotlib inline\n",
    "plt.style.use('ggplot')"
   ]
  },
  {
   "cell_type": "markdown",
   "id": "54c46e8f-e48a-4ba6-94c0-54caa7292035",
   "metadata": {},
   "source": [
    "Import the data using pandas:"
   ]
  },
  {
   "cell_type": "code",
   "execution_count": 2,
   "id": "9b156f01-e829-4788-8d5f-1802c347b218",
   "metadata": {},
   "outputs": [
    {
     "name": "stdout",
     "output_type": "stream",
     "text": [
      "Data imported successfully!\n"
     ]
    }
   ],
   "source": [
    "dt = pd.read_csv(\"student_scores.csv\")\n",
    "print(\"Data imported successfully!\")"
   ]
  },
  {
   "cell_type": "markdown",
   "id": "c757b81a-0fcc-428d-8874-86ea6ab51c5b",
   "metadata": {},
   "source": [
    "Let's check the first 10 data of the dataset:"
   ]
  },
  {
   "cell_type": "code",
   "execution_count": 3,
   "id": "6bf44d11-7cd4-441f-b7b4-eb1d60bef7fa",
   "metadata": {},
   "outputs": [
    {
     "data": {
      "text/html": [
       "<div>\n",
       "<style scoped>\n",
       "    .dataframe tbody tr th:only-of-type {\n",
       "        vertical-align: middle;\n",
       "    }\n",
       "\n",
       "    .dataframe tbody tr th {\n",
       "        vertical-align: top;\n",
       "    }\n",
       "\n",
       "    .dataframe thead th {\n",
       "        text-align: right;\n",
       "    }\n",
       "</style>\n",
       "<table border=\"1\" class=\"dataframe\">\n",
       "  <thead>\n",
       "    <tr style=\"text-align: right;\">\n",
       "      <th></th>\n",
       "      <th>Hours</th>\n",
       "      <th>Scores</th>\n",
       "    </tr>\n",
       "  </thead>\n",
       "  <tbody>\n",
       "    <tr>\n",
       "      <th>0</th>\n",
       "      <td>2.5</td>\n",
       "      <td>21</td>\n",
       "    </tr>\n",
       "    <tr>\n",
       "      <th>1</th>\n",
       "      <td>5.1</td>\n",
       "      <td>47</td>\n",
       "    </tr>\n",
       "    <tr>\n",
       "      <th>2</th>\n",
       "      <td>3.2</td>\n",
       "      <td>27</td>\n",
       "    </tr>\n",
       "    <tr>\n",
       "      <th>3</th>\n",
       "      <td>8.5</td>\n",
       "      <td>75</td>\n",
       "    </tr>\n",
       "    <tr>\n",
       "      <th>4</th>\n",
       "      <td>3.5</td>\n",
       "      <td>30</td>\n",
       "    </tr>\n",
       "    <tr>\n",
       "      <th>5</th>\n",
       "      <td>1.5</td>\n",
       "      <td>20</td>\n",
       "    </tr>\n",
       "    <tr>\n",
       "      <th>6</th>\n",
       "      <td>9.2</td>\n",
       "      <td>88</td>\n",
       "    </tr>\n",
       "    <tr>\n",
       "      <th>7</th>\n",
       "      <td>5.5</td>\n",
       "      <td>60</td>\n",
       "    </tr>\n",
       "    <tr>\n",
       "      <th>8</th>\n",
       "      <td>8.3</td>\n",
       "      <td>81</td>\n",
       "    </tr>\n",
       "    <tr>\n",
       "      <th>9</th>\n",
       "      <td>2.7</td>\n",
       "      <td>25</td>\n",
       "    </tr>\n",
       "  </tbody>\n",
       "</table>\n",
       "</div>"
      ],
      "text/plain": [
       "   Hours  Scores\n",
       "0    2.5      21\n",
       "1    5.1      47\n",
       "2    3.2      27\n",
       "3    8.5      75\n",
       "4    3.5      30\n",
       "5    1.5      20\n",
       "6    9.2      88\n",
       "7    5.5      60\n",
       "8    8.3      81\n",
       "9    2.7      25"
      ]
     },
     "execution_count": 3,
     "metadata": {},
     "output_type": "execute_result"
    }
   ],
   "source": [
    "dt.head(10)"
   ]
  },
  {
   "cell_type": "markdown",
   "id": "703e7451-6cf5-41ef-8976-d2fe21393bce",
   "metadata": {},
   "source": [
    "Now let's seen the concise summary of the dataset:"
   ]
  },
  {
   "cell_type": "code",
   "execution_count": 4,
   "id": "c21706b2-7203-49ce-b63f-5807890f820b",
   "metadata": {},
   "outputs": [
    {
     "name": "stdout",
     "output_type": "stream",
     "text": [
      "<class 'pandas.core.frame.DataFrame'>\n",
      "RangeIndex: 25 entries, 0 to 24\n",
      "Data columns (total 2 columns):\n",
      " #   Column  Non-Null Count  Dtype  \n",
      "---  ------  --------------  -----  \n",
      " 0   Hours   25 non-null     float64\n",
      " 1   Scores  25 non-null     int64  \n",
      "dtypes: float64(1), int64(1)\n",
      "memory usage: 528.0 bytes\n"
     ]
    }
   ],
   "source": [
    "dt.info()"
   ]
  },
  {
   "cell_type": "markdown",
   "id": "f970b608-5fff-49da-9524-c84ea21c8824",
   "metadata": {},
   "source": [
    "Here, we can see we have a total of 25 non-null data entries in the dataset consists of two columns of both float and int datatypes. Now let's view some basic statistical details: "
   ]
  },
  {
   "cell_type": "code",
   "execution_count": 5,
   "id": "aea429f3-a5e2-4a0a-9e4f-fd91ce0daf9f",
   "metadata": {},
   "outputs": [
    {
     "data": {
      "text/html": [
       "<div>\n",
       "<style scoped>\n",
       "    .dataframe tbody tr th:only-of-type {\n",
       "        vertical-align: middle;\n",
       "    }\n",
       "\n",
       "    .dataframe tbody tr th {\n",
       "        vertical-align: top;\n",
       "    }\n",
       "\n",
       "    .dataframe thead th {\n",
       "        text-align: right;\n",
       "    }\n",
       "</style>\n",
       "<table border=\"1\" class=\"dataframe\">\n",
       "  <thead>\n",
       "    <tr style=\"text-align: right;\">\n",
       "      <th></th>\n",
       "      <th>Hours</th>\n",
       "      <th>Scores</th>\n",
       "    </tr>\n",
       "  </thead>\n",
       "  <tbody>\n",
       "    <tr>\n",
       "      <th>count</th>\n",
       "      <td>25.000000</td>\n",
       "      <td>25.000000</td>\n",
       "    </tr>\n",
       "    <tr>\n",
       "      <th>mean</th>\n",
       "      <td>5.012000</td>\n",
       "      <td>51.480000</td>\n",
       "    </tr>\n",
       "    <tr>\n",
       "      <th>std</th>\n",
       "      <td>2.525094</td>\n",
       "      <td>25.286887</td>\n",
       "    </tr>\n",
       "    <tr>\n",
       "      <th>min</th>\n",
       "      <td>1.100000</td>\n",
       "      <td>17.000000</td>\n",
       "    </tr>\n",
       "    <tr>\n",
       "      <th>25%</th>\n",
       "      <td>2.700000</td>\n",
       "      <td>30.000000</td>\n",
       "    </tr>\n",
       "    <tr>\n",
       "      <th>50%</th>\n",
       "      <td>4.800000</td>\n",
       "      <td>47.000000</td>\n",
       "    </tr>\n",
       "    <tr>\n",
       "      <th>75%</th>\n",
       "      <td>7.400000</td>\n",
       "      <td>75.000000</td>\n",
       "    </tr>\n",
       "    <tr>\n",
       "      <th>max</th>\n",
       "      <td>9.200000</td>\n",
       "      <td>95.000000</td>\n",
       "    </tr>\n",
       "  </tbody>\n",
       "</table>\n",
       "</div>"
      ],
      "text/plain": [
       "           Hours     Scores\n",
       "count  25.000000  25.000000\n",
       "mean    5.012000  51.480000\n",
       "std     2.525094  25.286887\n",
       "min     1.100000  17.000000\n",
       "25%     2.700000  30.000000\n",
       "50%     4.800000  47.000000\n",
       "75%     7.400000  75.000000\n",
       "max     9.200000  95.000000"
      ]
     },
     "execution_count": 5,
     "metadata": {},
     "output_type": "execute_result"
    }
   ],
   "source": [
    "dt.describe()"
   ]
  },
  {
   "cell_type": "markdown",
   "id": "f1f47b17-4afb-425a-8dbf-48b4353550aa",
   "metadata": {},
   "source": [
    "Let's plot our data points on a 2-D graph using matplotlib to check pur dataset and see if we can manually find any relationship between the data:"
   ]
  },
  {
   "cell_type": "code",
   "execution_count": 6,
   "id": "9dd6597e-1128-4f06-9797-519183073f46",
   "metadata": {},
   "outputs": [
    {
     "data": {
      "image/png": "[encoded data removed]",
      "text/plain": [
       "<Figure size 432x288 with 1 Axes>"
      ]
     },
     "metadata": {},
     "output_type": "display_data"
    }
   ],
   "source": [
    "dt.plot(x=\"Hours\", y=\"Scores\", style=\"o\")\n",
    "plt.title(\"Hours vs Percentage\")\n",
    "plt.xlabel(\"Hours studied\")\n",
    "plt.ylabel(\"Percentage scored\")\n",
    "plt.show()"
   ]
  },
  {
   "cell_type": "markdown",
   "id": "78bebcd6-71e4-452d-8950-938574314b40",
   "metadata": {},
   "source": [
    "#### Here we observe that there is a positive linear relation between the number of hours studied and percentage scored."
   ]
  },
  {
   "cell_type": "markdown",
   "id": "0aa44381-f32c-4745-910d-11df4c392b45",
   "metadata": {},
   "source": [
    "Therefore, we can use the linear regression technique to predict the nect values. But first we need to train and test our given dataset."
   ]
  },
  {
   "cell_type": "markdown",
   "id": "cdc8fe1e-4859-426d-afdb-646e917190ba",
   "metadata": {},
   "source": [
    "### Prepare The Data"
   ]
  },
  {
   "cell_type": "markdown",
   "id": "2939a153-ab60-4b0b-9527-b7bde82183d7",
   "metadata": {},
   "source": [
    "Now we have an idea about statistical details of our data. The next step is to divide the data into \"attributes\" and \"labels\". Attributes are the independent variables while labels are dependent variables whose values are to be predicted. In our dataset we only have two columns. We want to predict the percentage score depending upon the hours studied. Therefore our attribute set will consist of the \"Hours\" column, and the label will be the \"Score\" column. This is as follows:"
   ]
  },
  {
   "cell_type": "code",
   "execution_count": 7,
   "id": "db9fdfce-45be-4365-94f3-aa60464c7f61",
   "metadata": {},
   "outputs": [],
   "source": [
    "X = dt.iloc[:,:-1].values\n",
    "y = dt.iloc[:,1].values"
   ]
  },
  {
   "cell_type": "markdown",
   "id": "d5ced5e3-7a99-44a0-932b-b8f14e0ca12c",
   "metadata": {},
   "source": [
    "Now that we have our attributes and labels, the next step is to split this data into training and test sets. We'll do this by using Scikit-Learn's built-in <code>train_test_split()</code> method:"
   ]
  },
  {
   "cell_type": "code",
   "execution_count": 8,
   "id": "82aabdac-5787-4a7d-9252-18b7b8671a74",
   "metadata": {},
   "outputs": [],
   "source": [
    "from sklearn.model_selection import train_test_split\n",
    "X_train, X_test, y_train, y_test = train_test_split(X, y, test_size=0.2, random_state=0)"
   ]
  },
  {
   "cell_type": "markdown",
   "id": "3a5ba7da-d8e8-4f41-bbf2-7a7b35daa1a9",
   "metadata": {},
   "source": [
    "The above script splits 80% of the data to training set and remaining 20% of the data to testing set. The <code>test_size</code> variable we actually specify the proportion of the test set."
   ]
  },
  {
   "cell_type": "markdown",
   "id": "c52491bb-4da6-4dfb-8042-dcf7ba351de5",
   "metadata": {},
   "source": [
    "The very next process is to train the algorithm, thus the step include the following:"
   ]
  },
  {
   "cell_type": "code",
   "execution_count": 10,
   "id": "8a27d8a4-0732-43cc-a388-bbd00e3caa5b",
   "metadata": {},
   "outputs": [
    {
     "name": "stdout",
     "output_type": "stream",
     "text": [
      "Training complete.\n"
     ]
    }
   ],
   "source": [
    "from sklearn.linear_model import LinearRegression\n",
    "regressor = LinearRegression()\n",
    "regressor.fit(X_train, y_train)\n",
    "\n",
    "print(\"Training complete.\")"
   ]
  },
  {
   "cell_type": "markdown",
   "id": "ccdb8a0e-1f01-426d-844f-ed3b73c618ff",
   "metadata": {},
   "source": [
    "Now let's plot the regressor line into the graph. The line is can be represented by <code>y=mx+c</code>, where m is the coefficient and c is the intercept:"
   ]
  },
  {
   "cell_type": "code",
   "execution_count": 11,
   "id": "c3707ac6-a18a-4997-a58f-46971bcde344",
   "metadata": {},
   "outputs": [
    {
     "data": {
      "image/png": "[encoded data removed]",
      "text/plain": [
       "<Figure size 432x288 with 1 Axes>"
      ]
     },
     "metadata": {},
     "output_type": "display_data"
    }
   ],
   "source": [
    "line = regressor.coef_ * X + regressor.intercept_\n",
    "plt.scatter(X,y)\n",
    "plt.plot(X,line)\n",
    "plt.show()"
   ]
  },
  {
   "cell_type": "markdown",
   "id": "d17eb8c9-49c6-49c8-98b4-4eb3a20501cd",
   "metadata": {},
   "source": [
    "#### Making Predictions"
   ]
  },
  {
   "cell_type": "markdown",
   "id": "7eb70241-324c-4c0b-91b4-3e82382d905a",
   "metadata": {},
   "source": [
    "Predicting the scores for the model is the next important step towards knowing our model:"
   ]
  },
  {
   "cell_type": "code",
   "execution_count": 12,
   "id": "02739121-d757-4edd-993d-1e2a6a024a81",
   "metadata": {},
   "outputs": [
    {
     "name": "stdout",
     "output_type": "stream",
     "text": [
      "[[1.5]\n",
      " [3.2]\n",
      " [7.4]\n",
      " [2.5]\n",
      " [5.9]]\n"
     ]
    }
   ],
   "source": [
    "print(X_test) # Testing Data - in Hours\n",
    "y_pred = regressor.predict(X_test) # Predicting the scores"
   ]
  },
  {
   "cell_type": "markdown",
   "id": "75a72c9e-145f-4814-96d8-b8cfc1b4f2b1",
   "metadata": {},
   "source": [
    "Now let's compare the actual data with the predicted data:"
   ]
  },
  {
   "cell_type": "code",
   "execution_count": 13,
   "id": "fdd11f78-3dcf-4018-975a-74fbe5dc0819",
   "metadata": {},
   "outputs": [
    {
     "name": "stdout",
     "output_type": "stream",
     "text": [
      "   Actually  Predicted\n",
      "0        20  16.884145\n",
      "1        27  33.732261\n",
      "2        69  75.357018\n",
      "3        30  26.794801\n",
      "4        62  60.491033\n"
     ]
    }
   ],
   "source": [
    "new_dt = pd.DataFrame({'Actually':y_test, 'Predicted':y_pred})\n",
    "print(new_dt)"
   ]
  },
  {
   "cell_type": "markdown",
   "id": "78b238cf-9df1-471d-baff-83a14c264616",
   "metadata": {},
   "source": [
    "Now it's time to test our model with sample testing hours, so in this case, we take 9.5 hours, i.e, if a student studies for nine and a half hours, approximately how many marks he can get based on the data we received and the model we applied."
   ]
  },
  {
   "cell_type": "code",
   "execution_count": 14,
   "id": "17843f01-b9c4-4087-853f-b2ed8b1f1225",
   "metadata": {},
   "outputs": [
    {
     "name": "stdout",
     "output_type": "stream",
     "text": [
      "Number of hours = 9.5\n",
      "Prediction Score = 96.16939660753592\n"
     ]
    }
   ],
   "source": [
    "hours = [[9.5]]\n",
    "own_pred = regressor.predict(hours)  \n",
    "print(\"Number of hours = {}\".format(hours[0][0]))  \n",
    "print(\"Prediction Score = {}\".format(own_pred[0])) "
   ]
  },
  {
   "cell_type": "markdown",
   "id": "1f886a14-95dd-46ce-8157-35d22a586538",
   "metadata": {},
   "source": [
    "#### Evaluating the model"
   ]
  },
  {
   "cell_type": "markdown",
   "id": "05c6c1e3-c382-4da7-ad05-6bc6530c2f11",
   "metadata": {},
   "source": [
    "The final step is to evaluate the performance of algorithm. This step is particularly important to compare how well different algorithms perform on a particular dataset. Here are three common evaluation metrics for regression problems:"
   ]
  },
  {
   "cell_type": "markdown",
   "id": "b63999c3-13af-4026-9672-ffeb15a7bc81",
   "metadata": {},
   "source": [
    "**Mean Absolute Error** (MAE) is the mean of the absolute value of the errors:\n",
    "\n",
    "$$\\frac 1n\\sum_{i=1}^n|y_i-\\hat{y}_i|$$\n",
    "\n",
    "**Mean Squared Error** (MSE) is the mean of the squared errors:\n",
    "\n",
    "$$\\frac 1n\\sum_{i=1}^n(y_i-\\hat{y}_i)^2$$\n",
    "\n",
    "**Root Mean Squared Error** (RMSE) is the square root of the mean of the squared errors:\n",
    "\n",
    "$$\\sqrt{\\frac 1n\\sum_{i=1}^n(y_i-\\hat{y}_i)^2}$$\n",
    "\n",
    "Comparing these metrics:\n",
    "\n",
    "- **MAE** is the easiest to understand, because it's the average error.\n",
    "- **MSE** is more popular than MAE, because MSE \"punishes\" larger errors, which tends to be useful in the real world.\n",
    "- **RMSE** is even more popular than MSE, because RMSE is interpretable in the \"y\" units.\n",
    "\n",
    "All of these are **loss functions**, because we want to minimize them."
   ]
  },
  {
   "cell_type": "code",
   "execution_count": 15,
   "id": "3c8a021d-bd82-4f21-bd40-9f1c489072db",
   "metadata": {},
   "outputs": [],
   "source": [
    "from sklearn import metrics "
   ]
  },
  {
   "cell_type": "code",
   "execution_count": 16,
   "id": "5dd52efa-c405-4076-ab5d-4eaf433cad69",
   "metadata": {},
   "outputs": [
    {
     "name": "stdout",
     "output_type": "stream",
     "text": [
      "Mean Absolute Error: 4.183859899002975\n",
      "Mean Squared Error: 21.598769307217406\n",
      "Root Mean Squared Error: 4.647447612100367\n"
     ]
    }
   ],
   "source": [
    "print(\"Mean Absolute Error:\",metrics.mean_absolute_error(y_test,y_pred))\n",
    "print(\"Mean Squared Error:\",metrics.mean_squared_error(y_test,y_pred))\n",
    "print(\"Root Mean Squared Error:\",np.sqrt(metrics.mean_squared_error(y_test,y_pred)))"
   ]
  },
  {
   "cell_type": "markdown",
   "id": "033be26d-a9e4-4b2f-9ec2-a46891526496",
   "metadata": {},
   "source": [
    "**You can see that the value of root mean squared error is 4.64, which is less than 10% of the mean value of the percentages of all the students i.e. 51.48. This means that our algorithm did a decent job.**"
   ]
  },
  {
   "cell_type": "code",
   "execution_count": null,
   "id": "3ac1f8cc-c715-4ccf-a252-6c92237ac38b",
   "metadata": {},
   "outputs": [],
   "source": []
  }
 ],
 "metadata": {
  "kernelspec": {
   "display_name": "Python 3",
   "language": "python",
   "name": "python3"
  },
  "language_info": {
   "codemirror_mode": {
    "name": "ipython",
    "version": 3
   },
   "file_extension": ".py",
   "mimetype": "text/x-python",
   "name": "python",
   "nbconvert_exporter": "python",
   "pygments_lexer": "ipython3",
   "version": "3.9.4"
  }
 },
 "nbformat": 4,
 "nbformat_minor": 5
}
